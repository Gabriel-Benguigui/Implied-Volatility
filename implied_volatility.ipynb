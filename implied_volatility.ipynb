{
 "cells": [
  {
   "cell_type": "markdown",
   "id": "8ac72681",
   "metadata": {},
   "source": [
    "# Calcul de Volatilité Implicite 📉\n",
    "\n",
    "Ce notebook permet d’extraire la **volatilité implicite** à partir du **prix d'une option observé sur le marché**,  \n",
    "en inversant le modèle de Black-Scholes à l’aide de la méthode numérique de Brent.\n"
   ]
  },
  {
   "cell_type": "code",
   "execution_count": null,
   "id": "fa6084e6",
   "metadata": {},
   "outputs": [],
   "source": [
    "import numpy as np\n",
    "from scipy.stats import norm\n",
    "from scipy.optimize import brentq\n",
    "\n",
    "# Modèle Black-Scholes\n",
    "def black_scholes_price(S, K, T, r, sigma, option_type='call'):\n",
    "    d1 = (np.log(S/K) + (r + 0.5 * sigma**2) * T) / (sigma * np.sqrt(T))\n",
    "    d2 = d1 - sigma * np.sqrt(T)\n",
    "    if option_type == 'call':\n",
    "        return S * norm.cdf(d1) - K * np.exp(-r*T) * norm.cdf(d2)\n",
    "    else:\n",
    "        return K * np.exp(-r*T) * norm.cdf(-d2) - S * norm.cdf(-d1)\n",
    "\n",
    "# Fonction d’inversion pour trouver la volatilité implicite\n",
    "def implied_volatility(market_price, S, K, T, r, option_type='call'):\n",
    "    objective = lambda sigma: black_scholes_price(S, K, T, r, sigma, option_type) - market_price\n",
    "    try:\n",
    "        return brentq(objective, 1e-6, 5.0, maxiter=1000)\n",
    "    except ValueError:\n",
    "        return np.nan\n",
    "\n",
    "# Exemple\n",
    "S = 100\n",
    "K = 100\n",
    "T = 0.5\n",
    "r = 0.01\n",
    "market_price = 5.5\n",
    "\n",
    "iv_call = implied_volatility(market_price, S, K, T, r, option_type='call')\n",
    "iv_put = implied_volatility(market_price, S, K, T, r, option_type='put')\n",
    "\n",
    "print(f\"Volatilité implicite (call) : {iv_call:.4%}\")\n",
    "print(f\"Volatilité implicite (put)  : {iv_put:.4%}\")\n"
   ]
  }
 ],
 "metadata": {},
 "nbformat": 4,
 "nbformat_minor": 5
}
